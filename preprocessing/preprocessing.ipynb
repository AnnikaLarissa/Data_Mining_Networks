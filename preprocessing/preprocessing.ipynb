{
 "cells": [
  {
   "attachments": {},
   "cell_type": "markdown",
   "id": "cbed14a4",
   "metadata": {},
   "source": [
    "# Preprocess Facebook Network\n",
    "\n",
    "This file converts the data in the `/data/` folder to a .gml file\n",
    "Specifically, `/data/facebook_combined.txt` is iterated over to generate the .gml files, which is stored  as `/preprocessed_data/full_network.gml` and `/preprocessed_data/removed_links_network.gml`. The `removed_links_network` can be used to test the link prediction task. While iteratively writing edges to the `full_network`, each edge has a 80% chance of ending up in the `removed_links_network`. \n",
    "\n",
    "Additionally, this file outputs JSON files containing dictionaries with the node's neighboring nodes. Again, one file for all links and one file for the removed links.\n"
   ]
  },
  {
   "attachments": {},
   "cell_type": "markdown",
   "id": "40ec4564",
   "metadata": {},
   "source": [
    "## Imports"
   ]
  },
  {
   "cell_type": "code",
   "execution_count": 18,
   "id": "07a562a2",
   "metadata": {},
   "outputs": [],
   "source": [
    "import csv\n",
    "import numpy as np\n",
    "import random\n",
    "from pathlib import Path"
   ]
  },
  {
   "cell_type": "code",
   "execution_count": 19,
   "id": "d48b9a34",
   "metadata": {},
   "outputs": [
    {
     "data": {
      "text/plain": [
       "array([[   0,    1],\n",
       "       [   0,    2],\n",
       "       [   0,    3],\n",
       "       ...,\n",
       "       [4027, 4032],\n",
       "       [4027, 4038],\n",
       "       [4031, 4038]])"
      ]
     },
     "execution_count": 19,
     "metadata": {},
     "output_type": "execute_result"
    }
   ],
   "source": [
    "graph_data_path = Path() / \"../data/facebook_combined.txt\"\n",
    "graph_data = np.loadtxt(graph_data_path, dtype=int)\n",
    "graph_data"
   ]
  },
  {
   "attachments": {},
   "cell_type": "markdown",
   "id": "cc07dc43",
   "metadata": {},
   "source": [
    "## Write to files"
   ]
  },
  {
   "cell_type": "code",
   "execution_count": 20,
   "id": "ce111c9d",
   "metadata": {},
   "outputs": [
    {
     "data": {
      "text/plain": [
       "8"
      ]
     },
     "execution_count": 20,
     "metadata": {},
     "output_type": "execute_result"
    }
   ],
   "source": [
    "# Create or over-write files\n",
    "gml_full_path = Path() / \"preprocessed_data/full_network.gml\"\n",
    "gml_removed_links_path = Path() / \"preprocessed_data/removed_links_network.gml\"\n",
    "\n",
    "csv_full_path = Path() / \"preprocessed_data/all_links.csv\"\n",
    "csv_removed_links_path = Path() / \"preprocessed_data/removed_links.csv\"\n",
    "\n",
    "# Open files\n",
    "gml_full = open(gml_full_path, \"w\")\n",
    "gml_removed_links = open(gml_removed_links_path, \"w\")\n",
    "\n",
    "csv_full = open(csv_full_path, \"w\", newline='')\n",
    "csv_full_w = csv.writer(csv_full)\n",
    "csv_removed_links = open(csv_removed_links_path, \"w\", newline='')\n",
    "csv_removed_links_w = csv.writer(csv_removed_links)\n",
    "\n",
    "# Add default start to .gml\n",
    "gml_full.write(\"graph [\\n\")\n",
    "gml_removed_links.write(\"graph [\\n\")"
   ]
  },
  {
   "cell_type": "code",
   "execution_count": 21,
   "id": "a19410bc",
   "metadata": {},
   "outputs": [],
   "source": [
    "# For each node, create a node instance in the gml\n",
    "# Example:\n",
    "# node [\n",
    "#   id 1\n",
    "#   label \"1\"\n",
    "# ]\n",
    "\n",
    "for node in range(graph_data.max()+1):\n",
    "    gml_full.write(\"node [\\nid \" + str(node) + \"\\nlabel \\\"\" + str(node) + \"\\\"\\n]\\n\")\n",
    "    gml_removed_links.write(\"node [\\nid \" + str(node) + \"\\nlabel \\\"\" + str(node) + \"\\\"\\n]\\n\")"
   ]
  },
  {
   "cell_type": "code",
   "execution_count": 22,
   "id": "c3c49232",
   "metadata": {},
   "outputs": [],
   "source": [
    "# For each edge, create an edge instance in the gml_full and add to all_links dictionary\n",
    "# Each edge has an 80% chance of being written to the gml_removed_links and removed_links dictionary\n",
    "# Example:\n",
    "# edge [\n",
    "#   source 1\n",
    "#   target 2\n",
    "# ]\n",
    "\n",
    "for edge in graph_data:\n",
    "    gml_full.write(\"edge [\\nsource \" + str(edge[0]) + \"\\ntarget \" + str(edge[1]) + \"\\n]\\n\")\n",
    "    csv_full_w.writerow(edge)\n",
    "    if random.random() < 0.8:\n",
    "        csv_removed_links_w.writerow(edge)"
   ]
  },
  {
   "cell_type": "code",
   "execution_count": 23,
   "id": "49d2f65d",
   "metadata": {},
   "outputs": [],
   "source": [
    "# Add default ending to .gml\n",
    "gml_full.write(\"]\")\n",
    "gml_removed_links.write(\"]\")\n",
    "\n",
    "# Close the files\n",
    "gml_full.close()\n",
    "gml_removed_links.close()\n",
    "csv_full.close()\n",
    "csv_removed_links.close()"
   ]
  }
 ],
 "metadata": {
  "kernelspec": {
   "display_name": "Python 3 (ipykernel)",
   "language": "python",
   "name": "python3"
  },
  "language_info": {
   "codemirror_mode": {
    "name": "ipython",
    "version": 3
   },
   "file_extension": ".py",
   "mimetype": "text/x-python",
   "name": "python",
   "nbconvert_exporter": "python",
   "pygments_lexer": "ipython3",
   "version": "3.9.16"
  }
 },
 "nbformat": 4,
 "nbformat_minor": 5
}
