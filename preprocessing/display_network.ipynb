{
 "cells": [
  {
   "attachments": {},
   "cell_type": "markdown",
   "id": "ec230e4a",
   "metadata": {},
   "source": [
    "# Facebook Network Visualizations\n",
    "\n",
    "This file imports the preprocessed facebook data `facebook_network.gml` and visualizes it"
   ]
  },
  {
   "cell_type": "code",
   "execution_count": 1,
   "id": "e717e17d",
   "metadata": {},
   "outputs": [],
   "source": [
    "from pyvis.network import Network\n",
    "from pathlib import Path\n",
    "import networkx as nx"
   ]
  },
  {
   "cell_type": "code",
   "execution_count": 2,
   "id": "c46ee5f1",
   "metadata": {},
   "outputs": [
    {
     "name": "stdout",
     "output_type": "stream",
     "text": [
      "facebook_network.html\n"
     ]
    },
    {
     "data": {
      "text/html": [
       "\n",
       "        <iframe\n",
       "            width=\"100%\"\n",
       "            height=\"800px\"\n",
       "            src=\"facebook_network.html\"\n",
       "            frameborder=\"0\"\n",
       "            allowfullscreen\n",
       "            \n",
       "        ></iframe>\n",
       "        "
      ],
      "text/plain": [
       "<IPython.lib.display.IFrame at 0x20d50583fa0>"
      ]
     },
     "execution_count": 2,
     "metadata": {},
     "output_type": "execute_result"
    }
   ],
   "source": [
    "# Read the gml file as a graph\n",
    "facebook_gml_file = Path() / \"preprocessed_data/full_network.gml\"\n",
    "facebook_graph = nx.read_gml(facebook_gml_file)\n",
    "\n",
    "# Create a pyvis network from the graph\n",
    "facebook_network = Network(\"800px\", width=\"100%\", bgcolor=\"#222222\", font_color=\"white\")\n",
    "facebook_network.from_nx(facebook_graph)\n",
    "\n",
    "# Manipulate note attributes for display purposes\n",
    "for node in facebook_network.nodes:\n",
    "    node[\"size\"] = facebook_graph.degree[node[\"id\"]]\n",
    "    node[\"title\"] = \"<b>\" + node[\"label\"] + \"</b>\"\n",
    "\n",
    "# Visualize network\n",
    "facebook_network.prep_notebook()\n",
    "facebook_network.show(\"facebook_network.html\")"
   ]
  }
 ],
 "metadata": {
  "kernelspec": {
   "display_name": "Python 3 (ipykernel)",
   "language": "python",
   "name": "python3"
  },
  "language_info": {
   "codemirror_mode": {
    "name": "ipython",
    "version": 3
   },
   "file_extension": ".py",
   "mimetype": "text/x-python",
   "name": "python",
   "nbconvert_exporter": "python",
   "pygments_lexer": "ipython3",
   "version": "3.9.16"
  }
 },
 "nbformat": 4,
 "nbformat_minor": 5
}
