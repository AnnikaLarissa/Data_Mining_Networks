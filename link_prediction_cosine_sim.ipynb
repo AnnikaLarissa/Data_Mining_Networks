{
 "cells": [
  {
   "attachments": {},
   "cell_type": "markdown",
   "metadata": {},
   "source": [
    "# Link Prediction\n",
    "\n",
    "We take the embedded data and calculate the cosine similarity between nodes. Cosine similarity is equal to normalized dot product similarity (source: https://zhang-yang.medium.com/cosine-similarity-dot-product-for-normalized-vectors-c07bdb61c9d1). If nodes are similar, but not linked yet, we predict a link between them."
   ]
  },
  {
   "attachments": {},
   "cell_type": "markdown",
   "metadata": {},
   "source": [
    "## Imports"
   ]
  },
  {
   "cell_type": "code",
   "execution_count": null,
   "metadata": {},
   "outputs": [],
   "source": [
    "import json\n",
    "import itertools\n",
    "import pandas as pd\n",
    "from sklearn.metrics.pairwise import cosine_similarity\n",
    "from sklearn.metrics import accuracy_score, matthews_corrcoef, confusion_matrix, classification_report"
   ]
  },
  {
   "cell_type": "code",
   "execution_count": null,
   "metadata": {},
   "outputs": [],
   "source": [
    "# Open link dictionaries\n",
    "with open('preprocessed_data/all_links.json', 'r') as fp:\n",
    "    all_links = json.load(fp)\n",
    "\n",
    "with open('preprocessed_data/removed_links.json', 'r') as fp:\n",
    "    removed_links = json.load(fp)\n",
    "\n",
    "highest_node_id = int(list(removed_links.keys())[-1])"
   ]
  },
  {
   "attachments": {},
   "cell_type": "markdown",
   "metadata": {},
   "source": [
    "## Functions"
   ]
  },
  {
   "cell_type": "code",
   "execution_count": null,
   "metadata": {},
   "outputs": [],
   "source": [
    "def predict_links(df):\n",
    "    # Initialize empty predicted links\n",
    "    predicted_links = []\n",
    "\n",
    "    # Iterate over all nodes and compare them to nodes they are not yet linked to\n",
    "    # Predicts link when cosine similarity > 70%\n",
    "    for node in range(0, highest_node_id + 1):\n",
    "        # Slices of dataframes containing the node itself\n",
    "        # and the nodes it is not connected to\n",
    "        node_df = df[df.index == node]\n",
    "        unconnected_nodes = [n for n in range(0, highest_node_id + 1) \n",
    "                             if n not in removed_links[str(node)] +\n",
    "                             [node]]\n",
    "        unconnected_nodes_df = df[df.index.isin(unconnected_nodes)]\n",
    "\n",
    "        # Cosine similarity between the node itself\n",
    "        # and the nodes it is not already connected to\n",
    "        similarity_scores = cosine_similarity(node_df, unconnected_nodes_df)[0].tolist()\n",
    "        similarity_dict = dict(zip(unconnected_nodes, similarity_scores))\n",
    "            \n",
    "        # If similarity > 85%, append to the list of predictions\n",
    "        for pair in similarity_dict.items():\n",
    "            if pair[1] > 0.85:\n",
    "                predicted_links.append((node, pair[0]))\n",
    "\n",
    "    return predicted_links"
   ]
  },
  {
   "cell_type": "code",
   "execution_count": null,
   "metadata": {},
   "outputs": [],
   "source": [
    "def link_dict_to_pairs(link_dict):\n",
    "    pairs = []\n",
    "\n",
    "    # Add a bidirectional pair for each link\n",
    "    # E.g. (1,0) and (0,1)\n",
    "    for node in range(0, highest_node_id + 1):\n",
    "        for neighbor in link_dict[str(node)]:\n",
    "            pairs.append((node, neighbor))\n",
    "            pairs.append((neighbor, node))\n",
    "\n",
    "    return pairs"
   ]
  },
  {
   "attachments": {},
   "cell_type": "markdown",
   "metadata": {},
   "source": [
    "## Predict for Node2Vec"
   ]
  },
  {
   "cell_type": "code",
   "execution_count": null,
   "metadata": {},
   "outputs": [],
   "source": [
    "# Import and make predictions\n",
    "node2vec = pd.read_csv('embedded_data/node2vec.csv')\n",
    "node2vec_pred = predict_links(node2vec)\n",
    "node2vec_pred"
   ]
  },
  {
   "attachments": {},
   "cell_type": "markdown",
   "metadata": {},
   "source": [
    "## Evaluate"
   ]
  },
  {
   "cell_type": "code",
   "execution_count": null,
   "metadata": {},
   "outputs": [],
   "source": [
    "# Convert the dictionaries to lists of pairs for easier comparison\n",
    "all_link_pairs = link_dict_to_pairs(all_links)\n",
    "removed_link_pairs = link_dict_to_pairs(removed_links)"
   ]
  },
  {
   "cell_type": "code",
   "execution_count": null,
   "metadata": {},
   "outputs": [],
   "source": [
    "# False positive predictions node2vec\n",
    "# i.e. it predicted a link that isn't there\n",
    "fp_node2vec = set(node2vec_pred) - set(all_link_pairs)\n",
    "\n",
    "# False negative predictions node2vec\n",
    "# i.e. it didnt predict a link that should have been there\n",
    "fn_node2vec = set(all_link_pairs) - set(node2vec_pred) - set(removed_link_pairs)\n",
    "\n",
    "# True positive predictions node2vec\n",
    "# i.e. all correct predictions\n",
    "tp_node2vec = set(node2vec_pred) - fp_node2vec\n",
    "\n",
    "# True negative predictions node2vec\n",
    "# i.e. all links that were correctly not predicted\n",
    "all_possible_pairs = itertools.product(list(range(0, highest_node_id + 1)), list(range(0, highest_node_id + 1)))\n",
    "tn_node2vec = set(all_possible_pairs) - set(all_link_pairs) - set(node2vec_pred)\n"
   ]
  },
  {
   "cell_type": "code",
   "execution_count": null,
   "metadata": {},
   "outputs": [],
   "source": [
    "print('fp: ', fp_node2vec, \n",
    "      'fn: ', fn_node2vec,\n",
    "      'tp: ', tp_node2vec,\n",
    "      'tn: ', tn_node2vec)"
   ]
  },
  {
   "cell_type": "code",
   "execution_count": null,
   "metadata": {},
   "outputs": [],
   "source": [
    "# Accuracy\n",
    "# accuracy_node2vec = (tp_rate_node2vec + tn_rate_node2vec) / ()"
   ]
  }
 ],
 "metadata": {
  "kernelspec": {
   "display_name": "network_env",
   "language": "python",
   "name": "python3"
  },
  "language_info": {
   "codemirror_mode": {
    "name": "ipython",
    "version": 3
   },
   "file_extension": ".py",
   "mimetype": "text/x-python",
   "name": "python",
   "nbconvert_exporter": "python",
   "pygments_lexer": "ipython3",
   "version": "3.10.6"
  },
  "orig_nbformat": 4
 },
 "nbformat": 4,
 "nbformat_minor": 2
}
