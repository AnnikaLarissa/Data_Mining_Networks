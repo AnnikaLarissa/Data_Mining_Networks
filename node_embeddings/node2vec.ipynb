{
 "cells": [
  {
   "attachments": {},
   "cell_type": "markdown",
   "metadata": {},
   "source": [
    "# Implementation of Node2Vec algorithm\n",
    "\n",
    "For more information, see: https://snap.stanford.edu/node2vec/\n",
    "\n",
    "\n",
    "The algorithm on github: https://github.com/eliorc/node2vec"
   ]
  },
  {
   "cell_type": "code",
   "execution_count": 1,
   "metadata": {},
   "outputs": [
    {
     "name": "stderr",
     "output_type": "stream",
     "text": [
      "d:\\Users\\annik\\anaconda3\\envs\\network_env\\lib\\site-packages\\tqdm\\auto.py:21: TqdmWarning: IProgress not found. Please update jupyter and ipywidgets. See https://ipywidgets.readthedocs.io/en/stable/user_install.html\n",
      "  from .autonotebook import tqdm as notebook_tqdm\n"
     ]
    }
   ],
   "source": [
    "import json\n",
    "import networkx as nx\n",
    "import pandas as pd\n",
    "from node2vec import Node2Vec\n",
    "from pathlib import Path"
   ]
  },
  {
   "attachments": {},
   "cell_type": "markdown",
   "metadata": {},
   "source": [
    "## Embedding"
   ]
  },
  {
   "cell_type": "code",
   "execution_count": 2,
   "metadata": {},
   "outputs": [],
   "source": [
    "def node2vec_embedding(graph, dim):\n",
    "    print('Embedding dimension: ', str(dim), '...')\n",
    "    # Precompute probabilities and generate walks\n",
    "    # ON WINDOWS ONLY WORKS WITH workers=1\n",
    "    node2vec = Node2Vec(graph, dimensions=dim, walk_length=20, num_walks=50, workers=1)\n",
    "\n",
    "    # Embed nodes\n",
    "    # Any keywords acceptable by gensim.Word2Vec can be passed\n",
    "    # `dimensions` and `workers` are automatically passed (from the Node2Vec constructor)\n",
    "    model = node2vec.fit(window=5, min_count=1, batch_words=4)  \n",
    "\n",
    "    # Convert embedding to a dataframe\n",
    "    embedding_df = (\n",
    "        pd.DataFrame(\n",
    "            [model.wv.get_vector(str(n)) for n in graph.nodes()],\n",
    "            index = graph.nodes\n",
    "        )\n",
    "    )\n",
    "\n",
    "    # Save embedding to csv\n",
    "    # e.g. /embedded_partial_data/node2vec_64.csv)\n",
    "    embedding_df.to_csv('embedded_partial_data/node2vec_' + str(dim) +'.csv', index=False)"
   ]
  },
  {
   "cell_type": "code",
   "execution_count": 3,
   "metadata": {},
   "outputs": [],
   "source": [
    "# Read the gml file as a graph\n",
    "gml_file = Path() / \"../preprocessing/preprocessed_data/removed_links_network.gml\"\n",
    "graph = nx.read_gml(gml_file)"
   ]
  },
  {
   "cell_type": "code",
   "execution_count": 4,
   "metadata": {},
   "outputs": [
    {
     "name": "stdout",
     "output_type": "stream",
     "text": [
      "Embedding dimension:  8 ...\n"
     ]
    },
    {
     "name": "stderr",
     "output_type": "stream",
     "text": [
      "Computing transition probabilities: 100%|██████████| 4039/4039 [00:00<00:00, 37386.58it/s]\n",
      "Generating walks (CPU: 1): 100%|██████████| 50/50 [00:00<00:00, 107.22it/s]\n"
     ]
    },
    {
     "name": "stdout",
     "output_type": "stream",
     "text": [
      "Embedding dimension:  16 ...\n"
     ]
    },
    {
     "name": "stderr",
     "output_type": "stream",
     "text": [
      "Computing transition probabilities: 100%|██████████| 4039/4039 [00:00<00:00, 57950.13it/s]\n",
      "Generating walks (CPU: 1): 100%|██████████| 50/50 [00:00<00:00, 96.32it/s] \n"
     ]
    },
    {
     "name": "stdout",
     "output_type": "stream",
     "text": [
      "Embedding dimension:  32 ...\n"
     ]
    },
    {
     "name": "stderr",
     "output_type": "stream",
     "text": [
      "Computing transition probabilities: 100%|██████████| 4039/4039 [00:00<00:00, 114334.27it/s]\n",
      "Generating walks (CPU: 1): 100%|██████████| 50/50 [00:00<00:00, 110.22it/s]\n"
     ]
    },
    {
     "name": "stdout",
     "output_type": "stream",
     "text": [
      "Embedding dimension:  64 ...\n"
     ]
    },
    {
     "name": "stderr",
     "output_type": "stream",
     "text": [
      "Computing transition probabilities: 100%|██████████| 4039/4039 [00:00<00:00, 45861.66it/s]\n",
      "Generating walks (CPU: 1): 100%|██████████| 50/50 [00:00<00:00, 93.95it/s] \n"
     ]
    },
    {
     "name": "stdout",
     "output_type": "stream",
     "text": [
      "Embedding dimension:  128 ...\n"
     ]
    },
    {
     "name": "stderr",
     "output_type": "stream",
     "text": [
      "Computing transition probabilities: 100%|██████████| 4039/4039 [00:00<00:00, 108970.64it/s]\n",
      "Generating walks (CPU: 1): 100%|██████████| 50/50 [00:00<00:00, 111.22it/s]\n"
     ]
    }
   ],
   "source": [
    "dimensions = [8, 16, 32, 64, 128]\n",
    "\n",
    "for dim in dimensions:\n",
    "    node2vec_embedding(graph, dim)"
   ]
  }
 ],
 "metadata": {
  "kernelspec": {
   "display_name": "Python 3 (ipykernel)",
   "language": "python",
   "name": "python3"
  },
  "language_info": {
   "codemirror_mode": {
    "name": "ipython",
    "version": 3
   },
   "file_extension": ".py",
   "mimetype": "text/x-python",
   "name": "python",
   "nbconvert_exporter": "python",
   "pygments_lexer": "ipython3",
   "version": "3.9.16"
  }
 },
 "nbformat": 4,
 "nbformat_minor": 2
}
