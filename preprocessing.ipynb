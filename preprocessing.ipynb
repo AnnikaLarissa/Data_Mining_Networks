{
 "cells": [
  {
   "cell_type": "markdown",
   "id": "fa5abe11",
   "metadata": {},
   "source": [
    "# Preprocess Facebook Network\n",
    "\n",
    "This file converts the data in the `/data/` folder to a .gml file (and features file in the future?)\n",
    "\n",
    "Specifically, `/data/facebook_combined.txt` and `/data/facebook/nodeId.circles` are iterated over to generate the .gml file, which is stored  as `/preprocessed_data/facebook_network.gml`.\n"
   ]
  },
  {
   "cell_type": "code",
   "execution_count": null,
   "id": "795c980c",
   "metadata": {},
   "outputs": [],
   "source": []
  },
  {
   "cell_type": "code",
   "execution_count": null,
   "id": "bfaa9b4e",
   "metadata": {},
   "outputs": [],
   "source": []
  }
 ],
 "metadata": {
  "kernelspec": {
   "display_name": "Python 3 (ipykernel)",
   "language": "python",
   "name": "python3"
  },
  "language_info": {
   "codemirror_mode": {
    "name": "ipython",
    "version": 3
   },
   "file_extension": ".py",
   "mimetype": "text/x-python",
   "name": "python",
   "nbconvert_exporter": "python",
   "pygments_lexer": "ipython3",
   "version": "3.9.12"
  }
 },
 "nbformat": 4,
 "nbformat_minor": 5
}
