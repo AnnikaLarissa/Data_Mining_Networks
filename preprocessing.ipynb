{
 "cells": [
  {
   "cell_type": "markdown",
   "id": "cbed14a4",
   "metadata": {},
   "source": [
    "# Preprocess Facebook Network\n",
    "\n",
    "This file converts the data in the `/data/` folder to a .gml file (and features file in the future?)\n",
    "\n",
    "Specifically, `/data/facebook_combined.txt` and `/data/facebook/nodeId.circles` are iterated over to generate the .gml file, which is stored  as `/preprocessed_data/facebook_network.gml`.\n"
   ]
  },
  {
   "cell_type": "markdown",
   "id": "40ec4564",
   "metadata": {},
   "source": [
    "## Imports"
   ]
  },
  {
   "cell_type": "code",
   "execution_count": 1,
   "id": "07a562a2",
   "metadata": {},
   "outputs": [],
   "source": [
    "import numpy as np\n",
    "from pathlib import Path"
   ]
  },
  {
   "cell_type": "code",
   "execution_count": 2,
   "id": "d48b9a34",
   "metadata": {},
   "outputs": [
    {
     "data": {
      "text/plain": [
       "array([[   0,    1],\n",
       "       [   0,    2],\n",
       "       [   0,    3],\n",
       "       ...,\n",
       "       [4027, 4032],\n",
       "       [4027, 4038],\n",
       "       [4031, 4038]])"
      ]
     },
     "execution_count": 2,
     "metadata": {},
     "output_type": "execute_result"
    }
   ],
   "source": [
    "graph_data_path = Path() / \"data/facebook_combined.txt\"\n",
    "graph_data = np.loadtxt(graph_data_path, dtype=int)\n",
    "graph_data"
   ]
  },
  {
   "cell_type": "code",
   "execution_count": 3,
   "id": "b0e68622",
   "metadata": {},
   "outputs": [],
   "source": [
    "# TODO\n",
    "# circle_data = ...."
   ]
  },
  {
   "cell_type": "markdown",
   "id": "cc07dc43",
   "metadata": {},
   "source": [
    "## Write to .gml"
   ]
  },
  {
   "cell_type": "code",
   "execution_count": 4,
   "id": "ce111c9d",
   "metadata": {},
   "outputs": [
    {
     "data": {
      "text/plain": [
       "8"
      ]
     },
     "execution_count": 4,
     "metadata": {},
     "output_type": "execute_result"
    }
   ],
   "source": [
    "# Create or over-write file\n",
    "gml_path = Path() / \"preprocessed_data/facebook_network.gml\"\n",
    "gml = open(gml_path, \"w\")\n",
    "\n",
    "# Add default start\n",
    "gml.write(\"graph [\\n\")"
   ]
  },
  {
   "cell_type": "code",
   "execution_count": 5,
   "id": "a19410bc",
   "metadata": {},
   "outputs": [],
   "source": [
    "# For each node, create a node instance in the gml\n",
    "# Example:\n",
    "# node [\n",
    "#   id 1\n",
    "#   label \"1\"\n",
    "#   circle (TODO)\n",
    "# ]\n",
    "\n",
    "for node in range(graph_data.max()+1):\n",
    "    gml.write(\"node [\\nid \" + str(node) + \"\\nlabel \\\"\" + str(node) + \"\\\"\\n]\\n\")"
   ]
  },
  {
   "cell_type": "code",
   "execution_count": 6,
   "id": "c3c49232",
   "metadata": {},
   "outputs": [],
   "source": [
    "# For each edge, create an edge instance in the gml\n",
    "# Example:\n",
    "# edge [\n",
    "#   source 1\n",
    "#   target 2\n",
    "# ]\n",
    "\n",
    "for edge in graph_data:\n",
    "    gml.write(\"edge [\\nsource \" + str(edge[0]) + \"\\ntarget \" + str(edge[1]) + \"\\n]\\n\")"
   ]
  },
  {
   "cell_type": "code",
   "execution_count": 7,
   "id": "49d2f65d",
   "metadata": {},
   "outputs": [],
   "source": [
    "# Add default ending\n",
    "gml.write(\"]\")\n",
    "\n",
    "# Close the file\n",
    "gml.close()"
   ]
  }
 ],
 "metadata": {
  "kernelspec": {
   "display_name": "Python 3 (ipykernel)",
   "language": "python",
   "name": "python3"
  },
  "language_info": {
   "codemirror_mode": {
    "name": "ipython",
    "version": 3
   },
   "file_extension": ".py",
   "mimetype": "text/x-python",
   "name": "python",
   "nbconvert_exporter": "python",
   "pygments_lexer": "ipython3",
   "version": "3.9.12"
  }
 },
 "nbformat": 4,
 "nbformat_minor": 5
}
