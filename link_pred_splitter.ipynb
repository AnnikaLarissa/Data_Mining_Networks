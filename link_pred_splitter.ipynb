{
 "cells": [
  {
   "cell_type": "code",
   "execution_count": 2,
   "metadata": {},
   "outputs": [],
   "source": [
    "import random\n",
    "import networkx as nx\n",
    "import numpy as np\n",
    "from pathlib import Path\n",
    "import csv\n",
    "\n",
    "\n",
    "# load the graph data\n",
    "facebook_gml_file = Path() / \"preprocessed_data/facebook_network.gml\"\n",
    "graph = nx.read_gml(facebook_gml_file)\n",
    "\n",
    "# links to remove, let's randomly remove 30% of the links\n",
    "links_to_remove = random.sample(graph.edges(), int(0.3 * graph.number_of_edges()))\n",
    "graph.remove_edges_from(links_to_remove)\n",
    "# node representations from the train graph\n",
    "node_embeddings = []\n",
    "with open('Splitter/output/facebook_embedding_Splitter.csv', 'r') as file:\n",
    "    csv_reader = csv.reader(file)\n",
    "    next(csv_reader)  # skip the header row\n",
    "    for row in csv_reader:\n",
    "        embeddings = np.array(row, dtype=np.float32)  \n",
    "        node_embeddings.append(embeddings)\n"
   ]
  },
  {
   "cell_type": "code",
   "execution_count": 3,
   "metadata": {},
   "outputs": [],
   "source": [
    "import json\n",
    "\n",
    "# Load persona JSON file\n",
    "with open('Splitter/output/facebook_personas_splitter.json', 'r') as file:\n",
    "    connections = json.load(file)\n",
    "\n",
    "positive_examples = [(source, target) for source, target in connections.items() if target != 0]\n",
    "\n",
    "num_negative_examples = len(positive_examples)  # --- not sure about this line\n",
    "persona_ids = set(connections.keys())\n",
    "\n",
    "negative_examples = []\n",
    "\n",
    "while len(negative_examples) < num_negative_examples:\n",
    "    random_pair = random.sample(persona_ids, 2)\n",
    "    if random_pair not in positive_examples:\n",
    "        negative_examples.append(tuple(random_pair))"
   ]
  },
  {
   "cell_type": "code",
   "execution_count": 4,
   "metadata": {},
   "outputs": [],
   "source": [
    "def extract_features(source_node, target_node):\n",
    "    source_embedding = node_embeddings[int(source_node)]  # Convert source_node to an integer index\n",
    "    target_embedding = node_embeddings[int(target_node)]  # Convert target_node to an integer index\n",
    "    feature = np.concatenate((source_embedding, target_embedding))\n",
    "    return feature\n",
    "\n",
    "features = []\n",
    "labels = []\n",
    "\n",
    "for example in positive_examples:\n",
    "    source_node, target_node = example\n",
    "    feature = extract_features(source_node, target_node)\n",
    "    features.append(feature)\n",
    "    labels.append(1)\n",
    "\n",
    "for example in negative_examples:\n",
    "    source_node, target_node = example\n",
    "    feature = extract_features(source_node, target_node)\n",
    "    features.append(feature)\n",
    "    labels.append(0)\n",
    "\n",
    "# Convert features and labels to numpy arrays\n",
    "features = np.array(features)\n",
    "labels = np.array(labels)"
   ]
  },
  {
   "cell_type": "code",
   "execution_count": 12,
   "metadata": {},
   "outputs": [
    {
     "name": "stdout",
     "output_type": "stream",
     "text": [
      "Accuracy: 0.4878640776699029\n"
     ]
    }
   ],
   "source": [
    "import sklearn\n",
    "from sklearn.model_selection import train_test_split\n",
    "from sklearn.linear_model import LogisticRegression\n",
    "\n",
    "train_features, test_features, train_labels, test_labels = train_test_split(\n",
    "    features, labels, test_size=0.3, random_state=42\n",
    ")\n",
    "from sklearn.utils import shuffle\n",
    "\n",
    "# Shuffle the training data\n",
    "train_features, train_labels = shuffle(train_features, train_labels, random_state=42)\n",
    "\n",
    "logreg_model = LogisticRegression(solver='liblinear', max_iter=1000)\n",
    "# logreg_model = LogisticRegression(solver='lbfgs', max_iter=1000, C=1.0)\n",
    "logreg_model.fit(train_features, train_labels)\n",
    "\n",
    "accuracy = logreg_model.score(test_features, test_labels)\n",
    "print(\"Accuracy:\", accuracy)\n"
   ]
  }
 ],
 "metadata": {
  "kernelspec": {
   "display_name": "Python 3",
   "language": "python",
   "name": "python3"
  },
  "language_info": {
   "codemirror_mode": {
    "name": "ipython",
    "version": 3
   },
   "file_extension": ".py",
   "mimetype": "text/x-python",
   "name": "python",
   "nbconvert_exporter": "python",
   "pygments_lexer": "ipython3",
   "version": "3.7.13"
  },
  "orig_nbformat": 4
 },
 "nbformat": 4,
 "nbformat_minor": 2
}
