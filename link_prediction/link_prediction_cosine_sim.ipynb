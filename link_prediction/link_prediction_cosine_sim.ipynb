{
 "cells": [
  {
   "attachments": {},
   "cell_type": "markdown",
   "metadata": {},
   "source": [
    "# Link Prediction\n",
    "\n",
    "We take the embedded data and calculate the cosine similarity between nodes. Cosine similarity is equal to normalized dot product similarity (source: https://zhang-yang.medium.com/cosine-similarity-dot-product-for-normalized-vectors-c07bdb61c9d1). If nodes are similar, but not linked yet, we predict a link between them.\n",
    "\n",
    "The links are predicted on the partial network (all nodes, but 80% of the links are randomly removed) and tested on the ground truth full network."
   ]
  },
  {
   "attachments": {},
   "cell_type": "markdown",
   "metadata": {},
   "source": [
    "## Imports"
   ]
  },
  {
   "cell_type": "code",
   "execution_count": 15,
   "metadata": {},
   "outputs": [],
   "source": [
    "import itertools\n",
    "import numpy as np\n",
    "import pandas as pd\n",
    "from sklearn.metrics.pairwise import cosine_similarity"
   ]
  },
  {
   "cell_type": "code",
   "execution_count": 16,
   "metadata": {},
   "outputs": [
    {
     "data": {
      "text/plain": [
       "array([[   0,    1],\n",
       "       [   0,    2],\n",
       "       [   0,    3],\n",
       "       ...,\n",
       "       [4027, 4032],\n",
       "       [4027, 4038],\n",
       "       [4031, 4038]])"
      ]
     },
     "execution_count": 16,
     "metadata": {},
     "output_type": "execute_result"
    }
   ],
   "source": [
    "# Open link csv\n",
    "all_links = np.genfromtxt('../preprocessing/preprocessed_data/all_links.csv', delimiter=',', dtype=int)\n",
    "removed_links = np.genfromtxt('../preprocessing/preprocessed_data/removed_links.csv', delimiter=',', dtype=int)\n",
    "\n",
    "highest_node_id = all_links.max()\n",
    "all_links"
   ]
  },
  {
   "attachments": {},
   "cell_type": "markdown",
   "metadata": {},
   "source": [
    "## Functions"
   ]
  },
  {
   "cell_type": "code",
   "execution_count": 17,
   "metadata": {},
   "outputs": [],
   "source": [
    "def predict_links(df):\n",
    "    # Initialize empty predicted links\n",
    "    predicted_links = []\n",
    "\n",
    "    # Iterate over all nodes and compare them to nodes they are not yet linked to\n",
    "    # Predicts link when cosine similarity > 97.5%\n",
    "    for node in range(0, highest_node_id + 1):\n",
    "        # Slices of dataframes containing the node itself\n",
    "        # and the nodes it is not connected to\n",
    "        node_df = df[df.index == node]\n",
    "        unconnected_nodes = [n for n in range(0, highest_node_id + 1) \n",
    "                             if n not in removed_links[str(node)] +\n",
    "                             [node]]\n",
    "        unconnected_nodes_df = df[df.index.isin(unconnected_nodes)]\n",
    "\n",
    "        # Cosine similarity between the node itself\n",
    "        # and the nodes it is not already connected to\n",
    "        similarity_scores = cosine_similarity(node_df, unconnected_nodes_df)[0].tolist()\n",
    "        similarity_dict = dict(zip(unconnected_nodes, similarity_scores))\n",
    "            \n",
    "        # If similarity > 97.5%, append to the list of predictions\n",
    "        for pair in similarity_dict.items():\n",
    "            if pair[1] > 0.975:\n",
    "                predicted_links.append((node, pair[0]))\n",
    "\n",
    "    return predicted_links"
   ]
  },
  {
   "cell_type": "code",
   "execution_count": 18,
   "metadata": {},
   "outputs": [],
   "source": [
    "def link_array_to_pairs(link_array):\n",
    "    pairs = []\n",
    "\n",
    "    # Add a bidirectional pair for each link\n",
    "    # E.g. (1,0) and (0,1)\n",
    "    for link in link_array:\n",
    "        pairs.append((link[0], link[1]))\n",
    "        pairs.append((link[1], link[0]))\n",
    "\n",
    "    return pairs"
   ]
  },
  {
   "cell_type": "code",
   "execution_count": 19,
   "metadata": {},
   "outputs": [],
   "source": [
    "def metrics(pred):\n",
    "    # Convert the dictionaries to lists of pairs for easier comparison\n",
    "    all_link_pairs = link_array_to_pairs(all_links)\n",
    "    removed_link_pairs = link_array_to_pairs(removed_links)\n",
    "    \n",
    "    # False positive predictions\n",
    "    # i.e. it predicted a link that isn't there\n",
    "    fp = set(pred) - set(all_link_pairs)\n",
    "\n",
    "    # False negative predictions\n",
    "    # i.e. it didnt predict a link that should have been there\n",
    "    fn = set(all_link_pairs) - set(pred) - set(removed_link_pairs)\n",
    "\n",
    "    # True positive predictions\n",
    "    # i.e. all correct predictions\n",
    "    tp = set(pred) - fp\n",
    "\n",
    "    # True negative predictions\n",
    "    # i.e. all links that were correctly not predicted\n",
    "    all_possible_pairs = itertools.product(list(range(0, highest_node_id + 1)), list(range(0, highest_node_id + 1)))\n",
    "    tn = set(all_possible_pairs) - set(all_link_pairs) - set(pred)\n",
    "    \n",
    "    total = len(tp) + len(tn) + len(fp) + len(fn)\n",
    "    \n",
    "    # Accuracy\n",
    "    accuracy = (len(tp) + len(tn))/total\n",
    "    \n",
    "    # Precision\n",
    "    precision = len(tp) / (len(tp) + len(fp))\n",
    "    \n",
    "    # Make confusion matrix pairs with (absolute values, percentages)\n",
    "    fp = (len(fp), len(fp)/total)\n",
    "    fn = (len(fn), len(fn)/total)\n",
    "    tp = (len(tp), len(tp)/total)\n",
    "    tn = (len(tn), len(tn)/total)\n",
    "    \n",
    "    return fp, fn, tp, tn, accuracy, precision"
   ]
  },
  {
   "attachments": {},
   "cell_type": "markdown",
   "metadata": {},
   "source": [
    "## Predict for Node2Vec"
   ]
  },
  {
   "cell_type": "code",
   "execution_count": 23,
   "metadata": {},
   "outputs": [
    {
     "ename": "IndexError",
     "evalue": "only integers, slices (`:`), ellipsis (`...`), numpy.newaxis (`None`) and integer or boolean arrays are valid indices",
     "output_type": "error",
     "traceback": [
      "\u001b[1;31m---------------------------------------------------------------------------\u001b[0m",
      "\u001b[1;31mIndexError\u001b[0m                                Traceback (most recent call last)",
      "\u001b[1;32md:\\Users\\annik\\Documenten\\Zweden\\KTH\\S2\\Data Mining\\Data_Mining_Networks\\link_prediction\\link_prediction_cosine_sim.ipynb Cell 10\u001b[0m in \u001b[0;36m<cell line: 3>\u001b[1;34m()\u001b[0m\n\u001b[0;32m      <a href='vscode-notebook-cell:/d%3A/Users/annik/Documenten/Zweden/KTH/S2/Data%20Mining/Data_Mining_Networks/link_prediction/link_prediction_cosine_sim.ipynb#X12sZmlsZQ%3D%3D?line=0'>1</a>\u001b[0m \u001b[39m# Import and make predictions\u001b[39;00m\n\u001b[0;32m      <a href='vscode-notebook-cell:/d%3A/Users/annik/Documenten/Zweden/KTH/S2/Data%20Mining/Data_Mining_Networks/link_prediction/link_prediction_cosine_sim.ipynb#X12sZmlsZQ%3D%3D?line=1'>2</a>\u001b[0m node2vec \u001b[39m=\u001b[39m pd\u001b[39m.\u001b[39mread_csv(\u001b[39m'\u001b[39m\u001b[39m../node_embeddings/embedded_partial_data/node2vec.csv\u001b[39m\u001b[39m'\u001b[39m)\n\u001b[1;32m----> <a href='vscode-notebook-cell:/d%3A/Users/annik/Documenten/Zweden/KTH/S2/Data%20Mining/Data_Mining_Networks/link_prediction/link_prediction_cosine_sim.ipynb#X12sZmlsZQ%3D%3D?line=2'>3</a>\u001b[0m node2vec_pred \u001b[39m=\u001b[39m predict_links(node2vec)\n",
      "\u001b[1;32md:\\Users\\annik\\Documenten\\Zweden\\KTH\\S2\\Data Mining\\Data_Mining_Networks\\link_prediction\\link_prediction_cosine_sim.ipynb Cell 10\u001b[0m in \u001b[0;36mpredict_links\u001b[1;34m(df)\u001b[0m\n\u001b[0;32m      <a href='vscode-notebook-cell:/d%3A/Users/annik/Documenten/Zweden/KTH/S2/Data%20Mining/Data_Mining_Networks/link_prediction/link_prediction_cosine_sim.ipynb#X12sZmlsZQ%3D%3D?line=6'>7</a>\u001b[0m \u001b[39mfor\u001b[39;00m node \u001b[39min\u001b[39;00m \u001b[39mrange\u001b[39m(\u001b[39m0\u001b[39m, highest_node_id \u001b[39m+\u001b[39m \u001b[39m1\u001b[39m):\n\u001b[0;32m      <a href='vscode-notebook-cell:/d%3A/Users/annik/Documenten/Zweden/KTH/S2/Data%20Mining/Data_Mining_Networks/link_prediction/link_prediction_cosine_sim.ipynb#X12sZmlsZQ%3D%3D?line=7'>8</a>\u001b[0m     \u001b[39m# Slices of dataframes containing the node itself\u001b[39;00m\n\u001b[0;32m      <a href='vscode-notebook-cell:/d%3A/Users/annik/Documenten/Zweden/KTH/S2/Data%20Mining/Data_Mining_Networks/link_prediction/link_prediction_cosine_sim.ipynb#X12sZmlsZQ%3D%3D?line=8'>9</a>\u001b[0m     \u001b[39m# and the nodes it is not connected to\u001b[39;00m\n\u001b[0;32m     <a href='vscode-notebook-cell:/d%3A/Users/annik/Documenten/Zweden/KTH/S2/Data%20Mining/Data_Mining_Networks/link_prediction/link_prediction_cosine_sim.ipynb#X12sZmlsZQ%3D%3D?line=9'>10</a>\u001b[0m     node_df \u001b[39m=\u001b[39m df[df\u001b[39m.\u001b[39mindex \u001b[39m==\u001b[39m node]\n\u001b[1;32m---> <a href='vscode-notebook-cell:/d%3A/Users/annik/Documenten/Zweden/KTH/S2/Data%20Mining/Data_Mining_Networks/link_prediction/link_prediction_cosine_sim.ipynb#X12sZmlsZQ%3D%3D?line=10'>11</a>\u001b[0m     unconnected_nodes \u001b[39m=\u001b[39m [n \u001b[39mfor\u001b[39;00m n \u001b[39min\u001b[39;00m \u001b[39mrange\u001b[39m(\u001b[39m0\u001b[39m, highest_node_id \u001b[39m+\u001b[39m \u001b[39m1\u001b[39m) \n\u001b[0;32m     <a href='vscode-notebook-cell:/d%3A/Users/annik/Documenten/Zweden/KTH/S2/Data%20Mining/Data_Mining_Networks/link_prediction/link_prediction_cosine_sim.ipynb#X12sZmlsZQ%3D%3D?line=11'>12</a>\u001b[0m                          \u001b[39mif\u001b[39;00m n \u001b[39mnot\u001b[39;00m \u001b[39min\u001b[39;00m removed_links[\u001b[39mstr\u001b[39m(node)] \u001b[39m+\u001b[39m\n\u001b[0;32m     <a href='vscode-notebook-cell:/d%3A/Users/annik/Documenten/Zweden/KTH/S2/Data%20Mining/Data_Mining_Networks/link_prediction/link_prediction_cosine_sim.ipynb#X12sZmlsZQ%3D%3D?line=12'>13</a>\u001b[0m                          [node]]\n\u001b[0;32m     <a href='vscode-notebook-cell:/d%3A/Users/annik/Documenten/Zweden/KTH/S2/Data%20Mining/Data_Mining_Networks/link_prediction/link_prediction_cosine_sim.ipynb#X12sZmlsZQ%3D%3D?line=13'>14</a>\u001b[0m     unconnected_nodes_df \u001b[39m=\u001b[39m df[df\u001b[39m.\u001b[39mindex\u001b[39m.\u001b[39misin(unconnected_nodes)]\n\u001b[0;32m     <a href='vscode-notebook-cell:/d%3A/Users/annik/Documenten/Zweden/KTH/S2/Data%20Mining/Data_Mining_Networks/link_prediction/link_prediction_cosine_sim.ipynb#X12sZmlsZQ%3D%3D?line=15'>16</a>\u001b[0m     \u001b[39m# Cosine similarity between the node itself\u001b[39;00m\n\u001b[0;32m     <a href='vscode-notebook-cell:/d%3A/Users/annik/Documenten/Zweden/KTH/S2/Data%20Mining/Data_Mining_Networks/link_prediction/link_prediction_cosine_sim.ipynb#X12sZmlsZQ%3D%3D?line=16'>17</a>\u001b[0m     \u001b[39m# and the nodes it is not already connected to\u001b[39;00m\n",
      "\u001b[1;32md:\\Users\\annik\\Documenten\\Zweden\\KTH\\S2\\Data Mining\\Data_Mining_Networks\\link_prediction\\link_prediction_cosine_sim.ipynb Cell 10\u001b[0m in \u001b[0;36m<listcomp>\u001b[1;34m(.0)\u001b[0m\n\u001b[0;32m      <a href='vscode-notebook-cell:/d%3A/Users/annik/Documenten/Zweden/KTH/S2/Data%20Mining/Data_Mining_Networks/link_prediction/link_prediction_cosine_sim.ipynb#X12sZmlsZQ%3D%3D?line=6'>7</a>\u001b[0m \u001b[39mfor\u001b[39;00m node \u001b[39min\u001b[39;00m \u001b[39mrange\u001b[39m(\u001b[39m0\u001b[39m, highest_node_id \u001b[39m+\u001b[39m \u001b[39m1\u001b[39m):\n\u001b[0;32m      <a href='vscode-notebook-cell:/d%3A/Users/annik/Documenten/Zweden/KTH/S2/Data%20Mining/Data_Mining_Networks/link_prediction/link_prediction_cosine_sim.ipynb#X12sZmlsZQ%3D%3D?line=7'>8</a>\u001b[0m     \u001b[39m# Slices of dataframes containing the node itself\u001b[39;00m\n\u001b[0;32m      <a href='vscode-notebook-cell:/d%3A/Users/annik/Documenten/Zweden/KTH/S2/Data%20Mining/Data_Mining_Networks/link_prediction/link_prediction_cosine_sim.ipynb#X12sZmlsZQ%3D%3D?line=8'>9</a>\u001b[0m     \u001b[39m# and the nodes it is not connected to\u001b[39;00m\n\u001b[0;32m     <a href='vscode-notebook-cell:/d%3A/Users/annik/Documenten/Zweden/KTH/S2/Data%20Mining/Data_Mining_Networks/link_prediction/link_prediction_cosine_sim.ipynb#X12sZmlsZQ%3D%3D?line=9'>10</a>\u001b[0m     node_df \u001b[39m=\u001b[39m df[df\u001b[39m.\u001b[39mindex \u001b[39m==\u001b[39m node]\n\u001b[0;32m     <a href='vscode-notebook-cell:/d%3A/Users/annik/Documenten/Zweden/KTH/S2/Data%20Mining/Data_Mining_Networks/link_prediction/link_prediction_cosine_sim.ipynb#X12sZmlsZQ%3D%3D?line=10'>11</a>\u001b[0m     unconnected_nodes \u001b[39m=\u001b[39m [n \u001b[39mfor\u001b[39;00m n \u001b[39min\u001b[39;00m \u001b[39mrange\u001b[39m(\u001b[39m0\u001b[39m, highest_node_id \u001b[39m+\u001b[39m \u001b[39m1\u001b[39m) \n\u001b[1;32m---> <a href='vscode-notebook-cell:/d%3A/Users/annik/Documenten/Zweden/KTH/S2/Data%20Mining/Data_Mining_Networks/link_prediction/link_prediction_cosine_sim.ipynb#X12sZmlsZQ%3D%3D?line=11'>12</a>\u001b[0m                          \u001b[39mif\u001b[39;00m n \u001b[39mnot\u001b[39;00m \u001b[39min\u001b[39;00m removed_links[\u001b[39mstr\u001b[39;49m(node)] \u001b[39m+\u001b[39m\n\u001b[0;32m     <a href='vscode-notebook-cell:/d%3A/Users/annik/Documenten/Zweden/KTH/S2/Data%20Mining/Data_Mining_Networks/link_prediction/link_prediction_cosine_sim.ipynb#X12sZmlsZQ%3D%3D?line=12'>13</a>\u001b[0m                          [node]]\n\u001b[0;32m     <a href='vscode-notebook-cell:/d%3A/Users/annik/Documenten/Zweden/KTH/S2/Data%20Mining/Data_Mining_Networks/link_prediction/link_prediction_cosine_sim.ipynb#X12sZmlsZQ%3D%3D?line=13'>14</a>\u001b[0m     unconnected_nodes_df \u001b[39m=\u001b[39m df[df\u001b[39m.\u001b[39mindex\u001b[39m.\u001b[39misin(unconnected_nodes)]\n\u001b[0;32m     <a href='vscode-notebook-cell:/d%3A/Users/annik/Documenten/Zweden/KTH/S2/Data%20Mining/Data_Mining_Networks/link_prediction/link_prediction_cosine_sim.ipynb#X12sZmlsZQ%3D%3D?line=15'>16</a>\u001b[0m     \u001b[39m# Cosine similarity between the node itself\u001b[39;00m\n\u001b[0;32m     <a href='vscode-notebook-cell:/d%3A/Users/annik/Documenten/Zweden/KTH/S2/Data%20Mining/Data_Mining_Networks/link_prediction/link_prediction_cosine_sim.ipynb#X12sZmlsZQ%3D%3D?line=16'>17</a>\u001b[0m     \u001b[39m# and the nodes it is not already connected to\u001b[39;00m\n",
      "\u001b[1;31mIndexError\u001b[0m: only integers, slices (`:`), ellipsis (`...`), numpy.newaxis (`None`) and integer or boolean arrays are valid indices"
     ]
    }
   ],
   "source": [
    "# Import and make predictions\n",
    "node2vec = pd.read_csv('../node_embeddings/embedded_partial_data/node2vec.csv')\n",
    "node2vec_pred = predict_links(node2vec)\n",
    "\n",
    "fp, fn, tp, tn, accuracy, precision = metrics(node2vec_pred)\n",
    "print('Node2vec\\n',\n",
    "      'fp: ', fp, '\\n',\n",
    "      'fn: ', fn, '\\n',\n",
    "      'tp: ', tp, '\\n',\n",
    "      'tn: ', tn, '\\n',\n",
    "      'accuracy: ', accuracy, '\\n',\n",
    "      'precision: ', precision)"
   ]
  },
  {
   "attachments": {},
   "cell_type": "markdown",
   "metadata": {},
   "source": [
    "## Predict for Splitter"
   ]
  },
  {
   "cell_type": "code",
   "execution_count": null,
   "metadata": {},
   "outputs": [],
   "source": []
  }
 ],
 "metadata": {
  "kernelspec": {
   "display_name": "Python 3 (ipykernel)",
   "language": "python",
   "name": "python3"
  },
  "language_info": {
   "codemirror_mode": {
    "name": "ipython",
    "version": 3
   },
   "file_extension": ".py",
   "mimetype": "text/x-python",
   "name": "python",
   "nbconvert_exporter": "python",
   "pygments_lexer": "ipython3",
   "version": "3.10.6"
  }
 },
 "nbformat": 4,
 "nbformat_minor": 2
}
