{
 "cells": [
  {
   "attachments": {},
   "cell_type": "markdown",
   "metadata": {},
   "source": [
    "# Implementation of Node2Vec algorithm\n",
    "\n",
    "For more information, see: https://snap.stanford.edu/node2vec/\n",
    "\n",
    "\n",
    "The algorithm on github: https://github.com/eliorc/node2vec"
   ]
  },
  {
   "cell_type": "code",
   "execution_count": 2,
   "metadata": {},
   "outputs": [
    {
     "name": "stderr",
     "output_type": "stream",
     "text": [
      "/Users/annafernandezrajal/miniconda3/envs/venv/lib/python3.7/site-packages/tqdm/auto.py:22: TqdmWarning: IProgress not found. Please update jupyter and ipywidgets. See https://ipywidgets.readthedocs.io/en/stable/user_install.html\n",
      "  from .autonotebook import tqdm as notebook_tqdm\n"
     ]
    }
   ],
   "source": [
    "import networkx as nx\n",
    "from node2vec import Node2Vec\n",
    "from pathlib import Path"
   ]
  },
  {
   "cell_type": "code",
   "execution_count": 3,
   "metadata": {},
   "outputs": [],
   "source": [
    "# Read the gml file as a graph\n",
    "facebook_gml_file = Path() / \"preprocessed_data/facebook_network.gml\"\n",
    "facebook_graph = nx.read_gml(facebook_gml_file)"
   ]
  },
  {
   "cell_type": "code",
   "execution_count": 4,
   "metadata": {},
   "outputs": [
    {
     "name": "stderr",
     "output_type": "stream",
     "text": [
      "Computing transition probabilities: 100%|██████████| 4039/4039 [01:07<00:00, 60.16it/s] \n",
      "Generating walks (CPU: 1): 100%|██████████| 50/50 [08:56<00:00, 10.73s/it]\n",
      "Generating walks (CPU: 2): 100%|██████████| 50/50 [09:03<00:00, 10.87s/it]\n",
      "Generating walks (CPU: 3): 100%|██████████| 50/50 [09:07<00:00, 10.95s/it]\n",
      "Generating walks (CPU: 4): 100%|██████████| 50/50 [09:01<00:00, 10.84s/it]\n"
     ]
    }
   ],
   "source": [
    "# Precompute probabilities and generate walks\n",
    "# ON WINDOWS ONLY WORKS WITH workers=1\n",
    "node2vec = Node2Vec(facebook_graph, dimensions=64, walk_length=30, num_walks=200, workers=4)\n",
    "\n",
    "# Embed nodes\n",
    "# Any keywords acceptable by gensim.Word2Vec can be passed\n",
    "# `dimensions` and `workers` are automatically passed (from the Node2Vec constructor)\n",
    "model = node2vec.fit(window=10, min_count=1, batch_words=4)  "
   ]
  },
  {
   "cell_type": "code",
   "execution_count": 5,
   "metadata": {},
   "outputs": [
    {
     "name": "stdout",
     "output_type": "stream",
     "text": [
      "('299', 0.9299114942550659)\n",
      "('126', 0.9274719953536987)\n",
      "('48', 0.9256669282913208)\n",
      "('53', 0.907521665096283)\n",
      "('194', 0.9074535965919495)\n",
      "('92', 0.9061319231987)\n",
      "('302', 0.9008632302284241)\n",
      "('73', 0.895550549030304)\n",
      "('180', 0.8922739028930664)\n",
      "('24', 0.8905556797981262)\n"
     ]
    }
   ],
   "source": [
    "# Look for the 10 most similar nodes to node 1\n",
    "# Output node names are always strings\n",
    "for node in model.wv.most_similar('1', topn=10):\n",
    "    print(node)"
   ]
  },
  {
   "cell_type": "code",
   "execution_count": 6,
   "metadata": {},
   "outputs": [],
   "source": [
    "model.wv.save_word2vec_format('node2vec_embeddings.txt')"
   ]
  }
 ],
 "metadata": {
  "kernelspec": {
   "display_name": "network_env",
   "language": "python",
   "name": "python3"
  },
  "language_info": {
   "codemirror_mode": {
    "name": "ipython",
    "version": 3
   },
   "file_extension": ".py",
   "mimetype": "text/x-python",
   "name": "python",
   "nbconvert_exporter": "python",
   "pygments_lexer": "ipython3",
   "version": "3.7.13"
  },
  "orig_nbformat": 4
 },
 "nbformat": 4,
 "nbformat_minor": 2
}
