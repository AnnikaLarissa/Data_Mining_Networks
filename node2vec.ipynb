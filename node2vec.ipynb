{
 "cells": [
  {
   "attachments": {},
   "cell_type": "markdown",
   "metadata": {},
   "source": [
    "# Implementation of Node2Vec algorithm\n",
    "\n",
    "For more information, see: https://snap.stanford.edu/node2vec/\n",
    "\n",
    "\n",
    "The algorithm on github: https://github.com/eliorc/node2vec"
   ]
  },
  {
   "cell_type": "code",
   "execution_count": 1,
   "metadata": {},
   "outputs": [
    {
     "name": "stderr",
     "output_type": "stream",
     "text": [
      "d:\\Users\\annik\\anaconda3\\envs\\network_env\\lib\\site-packages\\tqdm\\auto.py:21: TqdmWarning: IProgress not found. Please update jupyter and ipywidgets. See https://ipywidgets.readthedocs.io/en/stable/user_install.html\n",
      "  from .autonotebook import tqdm as notebook_tqdm\n"
     ]
    }
   ],
   "source": [
    "import networkx as nx\n",
    "from node2vec import Node2Vec\n",
    "from pathlib import Path"
   ]
  },
  {
   "cell_type": "code",
   "execution_count": 2,
   "metadata": {},
   "outputs": [],
   "source": [
    "# Read the gml file as a graph\n",
    "facebook_gml_file = Path() / \"preprocessed_data/facebook_network.gml\"\n",
    "facebook_graph = nx.read_gml(facebook_gml_file)"
   ]
  },
  {
   "cell_type": "code",
   "execution_count": 3,
   "metadata": {},
   "outputs": [
    {
     "name": "stderr",
     "output_type": "stream",
     "text": [
      "Computing transition probabilities: 100%|██████████| 4039/4039 [01:05<00:00, 61.65it/s] \n"
     ]
    }
   ],
   "source": [
    "# Precompute probabilities and generate walks\n",
    "# ON WINDOWS ONLY WORKS WITH workers=1\n",
    "node2vec = Node2Vec(facebook_graph, dimensions=64, walk_length=30, num_walks=200, workers=4)\n",
    "\n",
    "# Embed nodes\n",
    "# Any keywords acceptable by gensim.Word2Vec can be passed\n",
    "# `dimensions` and `workers` are automatically passed (from the Node2Vec constructor)\n",
    "model = node2vec.fit(window=10, min_count=1, batch_words=4)  "
   ]
  },
  {
   "cell_type": "code",
   "execution_count": null,
   "metadata": {},
   "outputs": [],
   "source": [
    "# Look for the 10 most similar nodes to node 1\n",
    "# Output node names are always strings\n",
    "for node in model.wv.most_similar('1', topn=10):\n",
    "    print(node)"
   ]
  }
 ],
 "metadata": {
  "kernelspec": {
   "display_name": "network_env",
   "language": "python",
   "name": "python3"
  },
  "language_info": {
   "codemirror_mode": {
    "name": "ipython",
    "version": 3
   },
   "file_extension": ".py",
   "mimetype": "text/x-python",
   "name": "python",
   "nbconvert_exporter": "python",
   "pygments_lexer": "ipython3",
   "version": "3.9.16"
  },
  "orig_nbformat": 4
 },
 "nbformat": 4,
 "nbformat_minor": 2
}
